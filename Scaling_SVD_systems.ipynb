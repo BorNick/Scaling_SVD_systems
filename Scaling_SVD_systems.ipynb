{
 "cells": [
  {
   "cell_type": "markdown",
   "metadata": {},
   "source": [
    "# Scaling SVD systems"
   ]
  },
  {
   "cell_type": "markdown",
   "metadata": {},
   "source": [
    "## Loading the data"
   ]
  },
  {
   "cell_type": "code",
   "execution_count": 1,
   "metadata": {
    "scrolled": true
   },
   "outputs": [
    {
     "name": "stdout",
     "output_type": "stream",
     "text": [
      "Number of users 943\n",
      "Number of movies 1682\n"
     ]
    },
    {
     "data": {
      "text/html": [
       "<div>\n",
       "<style scoped>\n",
       "    .dataframe tbody tr th:only-of-type {\n",
       "        vertical-align: middle;\n",
       "    }\n",
       "\n",
       "    .dataframe tbody tr th {\n",
       "        vertical-align: top;\n",
       "    }\n",
       "\n",
       "    .dataframe thead th {\n",
       "        text-align: right;\n",
       "    }\n",
       "</style>\n",
       "<table border=\"1\" class=\"dataframe\">\n",
       "  <thead>\n",
       "    <tr style=\"text-align: right;\">\n",
       "      <th></th>\n",
       "      <th>userId</th>\n",
       "      <th>movieId</th>\n",
       "      <th>rating</th>\n",
       "      <th>timestamp</th>\n",
       "    </tr>\n",
       "  </thead>\n",
       "  <tbody>\n",
       "    <tr>\n",
       "      <td>0</td>\n",
       "      <td>196</td>\n",
       "      <td>242</td>\n",
       "      <td>3</td>\n",
       "      <td>881250949</td>\n",
       "    </tr>\n",
       "    <tr>\n",
       "      <td>1</td>\n",
       "      <td>186</td>\n",
       "      <td>302</td>\n",
       "      <td>3</td>\n",
       "      <td>891717742</td>\n",
       "    </tr>\n",
       "    <tr>\n",
       "      <td>2</td>\n",
       "      <td>22</td>\n",
       "      <td>377</td>\n",
       "      <td>1</td>\n",
       "      <td>878887116</td>\n",
       "    </tr>\n",
       "    <tr>\n",
       "      <td>3</td>\n",
       "      <td>244</td>\n",
       "      <td>51</td>\n",
       "      <td>2</td>\n",
       "      <td>880606923</td>\n",
       "    </tr>\n",
       "    <tr>\n",
       "      <td>4</td>\n",
       "      <td>166</td>\n",
       "      <td>346</td>\n",
       "      <td>1</td>\n",
       "      <td>886397596</td>\n",
       "    </tr>\n",
       "    <tr>\n",
       "      <td>5</td>\n",
       "      <td>298</td>\n",
       "      <td>474</td>\n",
       "      <td>4</td>\n",
       "      <td>884182806</td>\n",
       "    </tr>\n",
       "    <tr>\n",
       "      <td>6</td>\n",
       "      <td>115</td>\n",
       "      <td>265</td>\n",
       "      <td>2</td>\n",
       "      <td>881171488</td>\n",
       "    </tr>\n",
       "    <tr>\n",
       "      <td>7</td>\n",
       "      <td>253</td>\n",
       "      <td>465</td>\n",
       "      <td>5</td>\n",
       "      <td>891628467</td>\n",
       "    </tr>\n",
       "    <tr>\n",
       "      <td>8</td>\n",
       "      <td>305</td>\n",
       "      <td>451</td>\n",
       "      <td>3</td>\n",
       "      <td>886324817</td>\n",
       "    </tr>\n",
       "    <tr>\n",
       "      <td>9</td>\n",
       "      <td>6</td>\n",
       "      <td>86</td>\n",
       "      <td>3</td>\n",
       "      <td>883603013</td>\n",
       "    </tr>\n",
       "  </tbody>\n",
       "</table>\n",
       "</div>"
      ],
      "text/plain": [
       "   userId  movieId  rating  timestamp\n",
       "0     196      242       3  881250949\n",
       "1     186      302       3  891717742\n",
       "2      22      377       1  878887116\n",
       "3     244       51       2  880606923\n",
       "4     166      346       1  886397596\n",
       "5     298      474       4  884182806\n",
       "6     115      265       2  881171488\n",
       "7     253      465       5  891628467\n",
       "8     305      451       3  886324817\n",
       "9       6       86       3  883603013"
      ]
     },
     "execution_count": 1,
     "metadata": {},
     "output_type": "execute_result"
    }
   ],
   "source": [
    "import pandas as pd\n",
    "import numpy as np\n",
    "data = pd.read_csv('data/ml-100k/u.data', sep='\\t', names=[\"userId\", \"movieId\", \"rating\", \"timestamp\"])\n",
    "# data['userId'] = data['userId'].astype('str')\n",
    "# data['movieId'] = data['movieId'].astype('str')\n",
    "users = data['userId'].unique() #list of all users\n",
    "movies = data['movieId'].unique() #list of all movies\n",
    "print(\"Number of users\", len(users))\n",
    "print(\"Number of movies\", len(movies))\n",
    "data.head(10)"
   ]
  },
  {
   "cell_type": "markdown",
   "metadata": {},
   "source": [
    "Splitting the data into train and test (test set is 20% of all the data)"
   ]
  },
  {
   "cell_type": "code",
   "execution_count": 2,
   "metadata": {},
   "outputs": [],
   "source": [
    "from sklearn.model_selection import train_test_split\n",
    "\n",
    "train, test= train_test_split(data, test_size=0.2, random_state=42)"
   ]
  },
  {
   "cell_type": "code",
   "execution_count": 3,
   "metadata": {},
   "outputs": [],
   "source": [
    "import scipy\n",
    "import scipy.sparse as spsp\n",
    "import scipy.sparse.linalg as spsplin\n",
    "import scipy.linalg as splin"
   ]
  },
  {
   "cell_type": "markdown",
   "metadata": {},
   "source": [
    "Constructing the user movie matrix from the train set"
   ]
  },
  {
   "cell_type": "code",
   "execution_count": 4,
   "metadata": {
    "scrolled": false
   },
   "outputs": [
    {
     "name": "stdout",
     "output_type": "stream",
     "text": [
      "(943, 1682)\n"
     ]
    }
   ],
   "source": [
    "train_matrix = spsp.csr_matrix((train.rating.values.astype('f8'), \n",
    "                               (train.userId.values - 1, train.movieId.values - 1)), shape=(users.max(), movies.max()))\n",
    "print(train_matrix.shape)"
   ]
  },
  {
   "cell_type": "markdown",
   "metadata": {},
   "source": [
    "## Initial SVD system"
   ]
  },
  {
   "cell_type": "markdown",
   "metadata": {},
   "source": [
    "Get averages needed for prediction"
   ]
  },
  {
   "cell_type": "code",
   "execution_count": 5,
   "metadata": {},
   "outputs": [],
   "source": [
    "def get_r(matrix):\n",
    "    r = matrix.sum(axis=0)\n",
    "    for l in range(r.shape[1]):\n",
    "        num = len(train_matrix[:, l].nonzero()[0])\n",
    "        if num != 0:\n",
    "            r[0, l] /= num\n",
    "    return r"
   ]
  },
  {
   "cell_type": "code",
   "execution_count": 6,
   "metadata": {},
   "outputs": [],
   "source": [
    "r = get_r(train_matrix)"
   ]
  },
  {
   "cell_type": "markdown",
   "metadata": {},
   "source": [
    "Prepare our user movie matrix for SVD"
   ]
  },
  {
   "cell_type": "code",
   "execution_count": 7,
   "metadata": {},
   "outputs": [],
   "source": [
    "def prepare_matrix(matrix, r):\n",
    "    prepared_matrix = matrix.copy()\n",
    "    for i in range(len(prepared_matrix.indptr) - 1):\n",
    "        prepared_matrix.data[prepared_matrix.indptr[i]:prepared_matrix.indptr[i + 1]] = \\\n",
    "        prepared_matrix.data[prepared_matrix.indptr[i]:prepared_matrix.indptr[i + 1]] - \\\n",
    "        r[0, prepared_matrix.indices[prepared_matrix.indptr[i]:prepared_matrix.indptr[i + 1]]]\n",
    "    return prepared_matrix"
   ]
  },
  {
   "cell_type": "code",
   "execution_count": 8,
   "metadata": {},
   "outputs": [],
   "source": [
    "prep_mat = prepare_matrix(train_matrix, r)"
   ]
  },
  {
   "cell_type": "markdown",
   "metadata": {},
   "source": [
    "Compute SVD (rank=14 was chosen empirically)"
   ]
  },
  {
   "cell_type": "code",
   "execution_count": 9,
   "metadata": {},
   "outputs": [],
   "source": [
    "rank = 14\n",
    "U, S, Vt = spsplin.svds(prep_mat, k=rank)"
   ]
  },
  {
   "cell_type": "code",
   "execution_count": 10,
   "metadata": {
    "scrolled": true
   },
   "outputs": [
    {
     "data": {
      "image/png": "[encoded data removed]",
      "text/plain": [
       "<Figure size 432x288 with 1 Axes>"
      ]
     },
     "metadata": {
      "needs_background": "light"
     },
     "output_type": "display_data"
    }
   ],
   "source": [
    "%matplotlib inline\n",
    "import numpy as np\n",
    "import matplotlib.pyplot as plt\n",
    "\n",
    "plt.plot(S[::-1] / S[-1])\n",
    "plt.xlabel(\"Index of singular values\", fontsize=18)\n",
    "plt.yticks(fontsize=18)\n",
    "plt.xticks(fontsize=18)\n",
    "plt.grid(True)"
   ]
  },
  {
   "cell_type": "code",
   "execution_count": 11,
   "metadata": {},
   "outputs": [],
   "source": [
    "sqrt_S = np.power(scipy.linalg.diagsvd(S, S.shape[0], S.shape[0]), 0.5)\n",
    "\n",
    "USVk = U @ sqrt_S.T @ sqrt_S @ Vt"
   ]
  },
  {
   "cell_type": "code",
   "execution_count": 12,
   "metadata": {},
   "outputs": [],
   "source": [
    "def predict(USVk, r, i, j):\n",
    "    pred = r[0, j] + USVk[i][j]\n",
    "#     pred = r + U[i, :][np.newaxis, :] @ sqrt_S.T @ sqrt_S @ Vt[:, j][:, np.newaxis]\n",
    "    return pred"
   ]
  },
  {
   "cell_type": "markdown",
   "metadata": {},
   "source": [
    "Metrics for comparison"
   ]
  },
  {
   "cell_type": "code",
   "execution_count": 22,
   "metadata": {},
   "outputs": [],
   "source": [
    "def mae(true, pred):\n",
    "    return np.mean(np.absolute(true - pred))\n",
    "def rmse(true, pred):\n",
    "    return np.sqrt(np.mean(np.power(np.absolute(true - pred), 2)))"
   ]
  },
  {
   "cell_type": "code",
   "execution_count": 14,
   "metadata": {},
   "outputs": [],
   "source": [
    "true = test['rating'].values"
   ]
  },
  {
   "cell_type": "code",
   "execution_count": 15,
   "metadata": {},
   "outputs": [],
   "source": [
    "def pred_batch(batch, USVk, r):\n",
    "    pred = []\n",
    "    for _,row in batch.iterrows():\n",
    "        user = row['userId'] - 1\n",
    "        item = row['movieId'] - 1\n",
    "        pred.append(predict(USVk, r, user, item))\n",
    "    pred = np.array(pred)\n",
    "    return pred"
   ]
  },
  {
   "cell_type": "markdown",
   "metadata": {},
   "source": [
    "Check if initial SVD system works"
   ]
  },
  {
   "cell_type": "code",
   "execution_count": 16,
   "metadata": {},
   "outputs": [],
   "source": [
    "pred = pred_batch(test, USVk, r)"
   ]
  },
  {
   "cell_type": "code",
   "execution_count": 17,
   "metadata": {},
   "outputs": [
    {
     "data": {
      "text/plain": [
       "0.773034347160854"
      ]
     },
     "execution_count": 17,
     "metadata": {},
     "output_type": "execute_result"
    }
   ],
   "source": [
    "mae(true, pred)"
   ]
  },
  {
   "cell_type": "code",
   "execution_count": 23,
   "metadata": {},
   "outputs": [
    {
     "data": {
      "text/plain": [
       "0.9810926126300655"
      ]
     },
     "execution_count": 23,
     "metadata": {},
     "output_type": "execute_result"
    }
   ],
   "source": [
    "rmse(true, pred)"
   ]
  },
  {
   "cell_type": "markdown",
   "metadata": {},
   "source": [
    "Errors are not high. Everything works fine.\n",
    "Let' go to the scaling of the system."
   ]
  },
  {
   "cell_type": "markdown",
   "metadata": {},
   "source": [
    "### SVD fold-in algorithm"
   ]
  },
  {
   "cell_type": "code",
   "execution_count": 24,
   "metadata": {},
   "outputs": [],
   "source": [
    "def svd_fold_in_users(U, S, Vt, new_users):\n",
    "    tmp = new_users @ Vt.T @ np.linalg.inv(S)\n",
    "    new_U = np.concatenate((U, tmp), axis=0)\n",
    "    return new_U, S, Vt\n",
    "\n",
    "def svd_fold_in_films(U, S, Vt, new_films):\n",
    "    tmp = np.linalg.inv(S) @ U.T @ new_films\n",
    "    new_Vt = np.concatenate((Vt, tmp), axis=1)\n",
    "    return U, S, new_Vt"
   ]
  },
  {
   "cell_type": "markdown",
   "metadata": {},
   "source": [
    "### Incremental SVD algorithm"
   ]
  },
  {
   "cell_type": "code",
   "execution_count": 25,
   "metadata": {},
   "outputs": [],
   "source": [
    "def svd_concat_new_films(U, S, Vt, new_films, rank=14):\n",
    "    V = Vt.T\n",
    "    tmp = U.T @ new_films\n",
    "    tmp = np.concatenate((S, tmp), axis=1)\n",
    "    U_f, S_f, Vt_f = spsplin.svds(tmp, k=rank-1, return_singular_vectors=True)\n",
    "    S_f = splin.diagsvd(S_f, S_f.shape[0], S_f.shape[0])\n",
    "    U_new = U @ U_f\n",
    "    S_new = S_f\n",
    "    V_f = Vt_f.T\n",
    "    V_new = np.zeros((V.shape[0] + new_films.shape[1], V_f.shape[0]))\n",
    "    V_new[:V.shape[0],:V.shape[1]] = V\n",
    "    for i in range(1, V_new.shape[0] - V.shape[0]):\n",
    "        V_new[V.shape[0]+i][V.shape[1]+i] = 1\n",
    "    V_new = V_new @ V_f\n",
    "    Vt_new = V_new.T\n",
    "    return U_new, S_new, Vt_new\n",
    "\n",
    "def svd_concat_new_users(U, S, Vt, new_users, rank=14):\n",
    "    V = Vt.T\n",
    "    tmp = new_users @ V\n",
    "    tmp = np.concatenate((S, tmp), axis=0)\n",
    "    U_h, S_h, Vt_h = spsplin.svds(tmp, k=rank-1, return_singular_vectors=True)\n",
    "    S_h = splin.diagsvd(S_h, S_h.shape[0], S_h.shape[0])\n",
    "    V_new = V @ Vt_h.T\n",
    "    S_new = S_h\n",
    "    U_t = U.T\n",
    "    U_new = np.zeros((U.shape[0] + new_users.shape[0], U_h.shape[0]))\n",
    "    U_new[:U.shape[0],:U.shape[1]] = U\n",
    "    for i in range(1, U_new.shape[0] - U.shape[0]):\n",
    "        U_new[U.shape[0]+i][U.shape[1]+i] = 1\n",
    "    U_new = U_new @ U_h\n",
    "    Vt_new = V_new.T\n",
    "    return U_new, S_new, Vt_new"
   ]
  },
  {
   "cell_type": "markdown",
   "metadata": {},
   "source": [
    "## Experiments"
   ]
  },
  {
   "cell_type": "markdown",
   "metadata": {},
   "source": [
    "To check our algorithms for scaling we conduct several experiments on how MAE and RMSE depend on the initial size of SVD. We cut the matrix into 2 pieces and compute SVD of the first part, then scale the SVD using the above mentioned methods then try to predict the test data using the modified SVD and measure MAE and RMSE. We also measure time of computing each method."
   ]
  },
  {
   "cell_type": "code",
   "execution_count": 26,
   "metadata": {},
   "outputs": [],
   "source": [
    "film_nums = list(range(100, train_matrix.shape[0], 50)) + [train_matrix.shape[0]]"
   ]
  },
  {
   "cell_type": "code",
   "execution_count": 27,
   "metadata": {},
   "outputs": [],
   "source": [
    "def test_method(method, film_nums, prep_mat, r, rank=14):\n",
    "    maes = []\n",
    "    rmses = []\n",
    "    times = []\n",
    "    for film_num in film_nums:\n",
    "#         cut_matrix = train_matrix[:, :film_num]\n",
    "#         cut_r = r[:, :film_num]\n",
    "#         add_columns = train_matrix[:, film_num:]\n",
    "#         add_r = r[:, film_num:]\n",
    "#         prep_cut_mat = prepare_matrix(cut_matrix, cut_r)\n",
    "#         prep_add_col = prepare_matrix(add_columns, add_r)\n",
    "        prep_cut_mat = prep_mat[:, :film_num]\n",
    "        prep_add_col = prep_mat[:, film_num:]\n",
    "        \n",
    "        U, S, Vt = spsplin.svds(prep_cut_mat, k=rank)\n",
    "        S = scipy.linalg.diagsvd(S, S.shape[0], S.shape[0])\n",
    "        \n",
    "        t = %timeit -o -q method(U, S, Vt, prep_add_col)\n",
    "        times.append(t.average)\n",
    "        U, S, Vt = method(U, S, Vt, prep_add_col)\n",
    "        sqrt_S = np.power(S, 0.5)\n",
    "        USVk = U @ sqrt_S.T @ sqrt_S @ Vt\n",
    "        \n",
    "        pred = pred_batch(test, USVk, r)\n",
    "        \n",
    "        maes.append(mae(true, pred))\n",
    "        rmses.append(rmse(true, pred))\n",
    "    return maes, rmses, times"
   ]
  },
  {
   "cell_type": "code",
   "execution_count": 28,
   "metadata": {},
   "outputs": [],
   "source": [
    "fold_in_maes, fold_in_rmses, fold_in_times = test_method(svd_fold_in_films, film_nums, prep_mat, r)"
   ]
  },
  {
   "cell_type": "code",
   "execution_count": 29,
   "metadata": {},
   "outputs": [],
   "source": [
    "incremental_maes, incremental_rmses, incremental_times = test_method(svd_concat_new_films, film_nums, prep_mat, r)"
   ]
  },
  {
   "cell_type": "code",
   "execution_count": 33,
   "metadata": {},
   "outputs": [
    {
     "data": {
      "image/png": "[encoded data removed]",
      "text/plain": [
       "<Figure size 1080x360 with 1 Axes>"
      ]
     },
     "metadata": {
      "needs_background": "light"
     },
     "output_type": "display_data"
    }
   ],
   "source": [
    "import matplotlib.pyplot as plt\n",
    "%matplotlib inline\n",
    "plt.figure(figsize=(15,5))\n",
    "plt.plot(film_nums, fold_in_maes, label=\"folding-in\")\n",
    "plt.plot(film_nums, incremental_maes, label=\"incremental\")\n",
    "# plt.plot(film_nums, fold_in_rmses, label=\"rmse\")\n",
    "plt.legend(fontsize=18)\n",
    "plt.ylabel(\"MAE\", fontsize=18)\n",
    "plt.xlabel(\"Number of initial films\", fontsize=18)\n",
    "plt.grid()\n",
    "plt.show()"
   ]
  },
  {
   "cell_type": "code",
   "execution_count": 34,
   "metadata": {
    "scrolled": true
   },
   "outputs": [
    {
     "data": {
      "image/png": "[encoded data removed]",
      "text/plain": [
       "<Figure size 1080x360 with 1 Axes>"
      ]
     },
     "metadata": {
      "needs_background": "light"
     },
     "output_type": "display_data"
    }
   ],
   "source": [
    "plt.figure(figsize=(15,5))\n",
    "plt.plot(film_nums, fold_in_rmses, label=\"folding-in\")\n",
    "plt.plot(film_nums, incremental_rmses, label=\"incremental\")\n",
    "plt.legend(fontsize=18)\n",
    "plt.ylabel(\"RMSE\", fontsize=18)\n",
    "plt.xlabel(\"Number of initial films\", fontsize=18)\n",
    "plt.grid()\n",
    "plt.show()"
   ]
  },
  {
   "cell_type": "code",
   "execution_count": 35,
   "metadata": {},
   "outputs": [
    {
     "data": {
      "image/png": "[encoded data removed]",
      "text/plain": [
       "<Figure size 1080x360 with 1 Axes>"
      ]
     },
     "metadata": {
      "needs_background": "light"
     },
     "output_type": "display_data"
    }
   ],
   "source": [
    "plt.figure(figsize=(15,5))\n",
    "plt.plot(film_nums, fold_in_times, label=\"folding-in\")\n",
    "plt.plot(film_nums, incremental_times, label=\"incremental\")\n",
    "plt.legend(fontsize=18)\n",
    "plt.ylabel(\"Time, s\", fontsize=18)\n",
    "plt.xlabel(\"Number of initial films\", fontsize=18)\n",
    "plt.grid()\n",
    "plt.show()"
   ]
  }
 ],
 "metadata": {
  "kernelspec": {
   "display_name": "Python 3",
   "language": "python",
   "name": "python3"
  },
  "language_info": {
   "codemirror_mode": {
    "name": "ipython",
    "version": 3
   },
   "file_extension": ".py",
   "mimetype": "text/x-python",
   "name": "python",
   "nbconvert_exporter": "python",
   "pygments_lexer": "ipython3",
   "version": "3.7.4"
  }
 },
 "nbformat": 4,
 "nbformat_minor": 2
}
